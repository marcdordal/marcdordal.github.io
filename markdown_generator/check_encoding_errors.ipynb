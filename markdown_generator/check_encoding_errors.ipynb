{
 "cells": [
  {
   "cell_type": "code",
   "execution_count": 5,
   "id": "c883a869",
   "metadata": {},
   "outputs": [
    {
     "name": "stdout",
     "output_type": "stream",
     "text": [
      "All characters are valid UTF-8.\n"
     ]
    }
   ],
   "source": [
    "def find_invalid_utf8_chars(path):\n",
    "    invalid_found = False  # Flag to track if any invalid characters are found\n",
    "    with open(path, 'rb') as file:\n",
    "        byte = file.read(1)\n",
    "        while byte:\n",
    "            try:\n",
    "                byte.decode('utf-8')\n",
    "            except UnicodeDecodeError:\n",
    "                print(f\"Found invalid UTF-8 encoding at byte offset: {file.tell()}\")\n",
    "                invalid_found = True  # Set the flag to True if an invalid character is found\n",
    "            byte = file.read(1)\n",
    "    \n",
    "    if not invalid_found:\n",
    "        print(\"All characters are valid UTF-8.\")\n",
    "\n",
    "# Now you call the function with the file path as an argument\n",
    "# file_path = 'C:/Users/marcd_ncckl9u/Documents/GitHub/marcdordal.github.io/markdown_generator/publications.tsv'\n",
    "file_path = 'C:/Users/PORTATIL/OneDrive/Documents/GitHub/marcdordal.github.io/markdown_generator/publications.tsv'\n",
    "find_invalid_utf8_chars(file_path)\n"
   ]
  },
  {
   "cell_type": "code",
   "execution_count": 6,
   "id": "d1885a63",
   "metadata": {},
   "outputs": [
    {
     "name": "stdout",
     "output_type": "stream",
     "text": [
      "Context around byte offset 281:\n",
      "b' Gap, Structural Change and Female Comparative Advantage: A '\n",
      "Context around byte offset 480:\n",
      "b'FLFP) rate and the diverging gender gap in workforce partici'\n"
     ]
    }
   ],
   "source": [
    "def print_context_around_offset(file_path, offset, num_bytes=30):\n",
    "    with open(file_path, 'rb') as file:\n",
    "        # Move to 10 bytes before the offset, if possible\n",
    "        start = max(offset - num_bytes, 0)\n",
    "        file.seek(start)\n",
    "        \n",
    "        # Read the bytes around the offset\n",
    "        context = file.read(num_bytes * 2)\n",
    "        \n",
    "        # Print the context with the problematic byte in the middle\n",
    "        print(f\"Context around byte offset {offset}:\")\n",
    "        print(context)\n",
    "\n",
    "# Example usage:\n",
    "# file_path = 'C:/Users/marcd_ncckl9u/Documents/GitHub/marcdordal.github.io/markdown_generator/publications.tsv'\n",
    "file_path = 'C:/Users/PORTATIL/OneDrive/Documents/GitHub/marcdordal.github.io/markdown_generator/publications.tsv'\n",
    "offsets = [281, 480]\n",
    "for offset in offsets:\n",
    "    print_context_around_offset(file_path, offset)\n"
   ]
  }
 ],
 "metadata": {
  "kernelspec": {
   "display_name": "Python 3",
   "language": "python",
   "name": "python3"
  },
  "language_info": {
   "codemirror_mode": {
    "name": "ipython",
    "version": 3
   },
   "file_extension": ".py",
   "mimetype": "text/x-python",
   "name": "python",
   "nbconvert_exporter": "python",
   "pygments_lexer": "ipython3",
   "version": "3.13.1"
  }
 },
 "nbformat": 4,
 "nbformat_minor": 5
}
