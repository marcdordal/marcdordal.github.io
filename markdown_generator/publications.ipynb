{
 "cells": [
  {
   "cell_type": "markdown",
   "metadata": {},
   "source": [
    "# Publications markdown generator for academicpages\n",
    "\n",
    "Takes a TSV of publications with metadata and converts them for use with [academicpages.github.io](academicpages.github.io). This is an interactive Jupyter notebook ([see more info here](http://jupyter-notebook-beginner-guide.readthedocs.io/en/latest/what_is_jupyter.html)). The core python code is also in `publications.py`. Run either from the `markdown_generator` folder after replacing `publications.tsv` with one containing your data.\n",
    "\n",
    "TODO: Make this work with BibTex and other databases of citations, rather than Stuart's non-standard TSV format and citation style.\n"
   ]
  },
  {
   "cell_type": "markdown",
   "metadata": {},
   "source": [
    "## Data format\n",
    "\n",
    "The TSV needs to have the following columns: pub_date, title, venue, excerpt, citation, site_url, and paper_url, with a header at the top. \n",
    "\n",
    "- `excerpt` and `pub_paper_url` can be blank, but the others must have values. \n",
    "- `pub_date` must be formatted as YYYY-MM-DD.\n",
    "- `url_slug` will be the descriptive part of the .md file and the permalink URL for the page about the paper. The .md file will be `YYYY-MM-DD-[url_slug].md` and the permalink will be `https://[yourdomain]/publications/YYYY-MM-DD-[url_slug]`\n",
    "\n",
    "This is how the raw file looks (it doesn't look pretty, use a spreadsheet or other program to edit and create)."
   ]
  },
  {
   "cell_type": "code",
   "execution_count": null,
   "metadata": {},
   "outputs": [],
   "source": [
    "!cat publications.tsv"
   ]
  },
  {
   "cell_type": "markdown",
   "metadata": {},
   "source": [
    "## Import pandas\n",
    "\n",
    "We are using the very handy pandas library for dataframes."
   ]
  },
  {
   "cell_type": "code",
   "execution_count": null,
   "metadata": {},
   "outputs": [],
   "source": [
    "import pandas as pd"
   ]
  },
  {
   "cell_type": "markdown",
   "metadata": {},
   "source": [
    "## Import TSV\n",
    "\n",
    "Pandas makes this easy with the read_csv function. We are using a TSV, so we specify the separator as a tab, or `\\t`.\n",
    "\n",
    "I found it important to put this data in a tab-separated values format, because there are a lot of commas in this kind of data and comma-separated values can get messed up. However, you can modify the import statement, as pandas also has read_excel(), read_json(), and others."
   ]
  },
  {
   "cell_type": "code",
   "execution_count": null,
   "metadata": {},
   "outputs": [],
   "source": [
    "publications = pd.read_csv(\"publications.tsv\", sep=\"\\t\", header=0)\n",
    "publications\n"
   ]
  },
  {
   "cell_type": "markdown",
   "metadata": {},
   "source": [
    "## Escape special characters\n",
    "\n",
    "YAML is very picky about how it takes a valid string, so we are replacing single and double quotes (and ampersands) with their HTML encoded equivilents. This makes them look not so readable in raw format, but they are parsed and rendered nicely."
   ]
  },
  {
   "cell_type": "code",
   "execution_count": null,
   "metadata": {},
   "outputs": [],
   "source": [
    "html_escape_table = {\n",
    "    \"&\": \"&amp;\",\n",
    "    '\"': \"&quot;\",\n",
    "    \"'\": \"&apos;\"\n",
    "    }\n",
    "\n",
    "def html_escape(text):\n",
    "    \"\"\"Produce entities within text.\"\"\"\n",
    "    return \"\".join(html_escape_table.get(c,c) for c in text)"
   ]
  },
  {
   "cell_type": "markdown",
   "metadata": {},
   "source": [
    "## Delete existing markdown files"
   ]
  },
  {
   "cell_type": "code",
   "execution_count": null,
   "metadata": {},
   "outputs": [],
   "source": [
    "import os\n",
    "import shutil\n",
    "\n",
    "# Replace these with the actual folder paths you want to clear.\n",
    "base_path = 'C:/Users/marcd_ncckl9u/Documents/GitHub/marcdordal.github.io'\n",
    "folder_names = ['_published_papers', '_policy_papers', '_working_papers', '_works_in_progress', '_resting_works']\n",
    "\n",
    "# Loop through each folder path\n",
    "for folder in folder_names:\n",
    "    # Construct folder path\n",
    "    folder_path = base_path + \"/\" + folder\n",
    "    # Check if the folder exists\n",
    "    if os.path.exists(folder_path):\n",
    "        # Remove all contents of the folder\n",
    "        for filename in os.listdir(folder_path):\n",
    "            file_path = os.path.join(folder_path, filename)\n",
    "            try:\n",
    "                if os.path.isfile(file_path) or os.path.islink(file_path):\n",
    "                    os.unlink(file_path)  # Removes files and links\n",
    "                elif os.path.isdir(file_path):\n",
    "                    shutil.rmtree(file_path)  # Removes subdirectories\n",
    "            except Exception as e:\n",
    "                print(f'Failed to delete {file_path}. Reason: {e}')\n",
    "    else:\n",
    "        print(f'The folder {folder} does not exist or cannot be found.')\n"
   ]
  },
  {
   "cell_type": "markdown",
   "metadata": {},
   "source": [
    "## Creating the markdown files\n",
    "\n",
    "This is where the heavy lifting is done. This loops through all the rows in the TSV dataframe, then starts to concatentate a big string (```md```) that contains the markdown for each type. It does the YAML metadata first, then does the description for the individual page."
   ]
  },
  {
   "cell_type": "code",
   "execution_count": null,
   "metadata": {},
   "outputs": [],
   "source": [
    "import os\n",
    "for row, item in publications.iterrows():\n",
    "    \n",
    "    md_filename = str(item.pub_date) + \"-\" + item.url_slug + \".md\"\n",
    "    html_filename = str(item.pub_date) + \"-\" + item.url_slug\n",
    "    year = item.pub_date[:4]\n",
    "    \n",
    "    ## YAML variables\n",
    "    \n",
    "    md = \"---\\ndate: \" + str(item.pub_date) + '\\n'\n",
    "    \n",
    "    if item.status == \"published_paper\":\n",
    "        md += \"\"\"collection: published_papers\"\"\"\n",
    "        md += \"\"\"\\npermalink: /published_paper/\"\"\" + html_filename\n",
    "            \n",
    "    elif item.status == \"working_paper\":\n",
    "        md += \"\"\"collection: working_papers\"\"\"\n",
    "        md += \"\"\"\\npermalink: /working_paper/\"\"\" + html_filename\n",
    "            \n",
    "    elif item.status == \"policy_paper\":\n",
    "        md += \"\"\"collection: policy_papers\"\"\"\n",
    "        md += \"\"\"\\npermalink: /policy_paper/\"\"\" + html_filename\n",
    "            \n",
    "    elif item.status == \"work_in_progress\":\n",
    "        md += \"\"\"collection: works_in_progress\"\"\"\n",
    "        md += \"\"\"\\npermalink: /work_in_progress/\"\"\" + html_filename\n",
    "            \n",
    "    elif item.status == \"resting_work\":\n",
    "        md += \"\"\"collection: resting_works\"\"\"\n",
    "        md += \"\"\"\\npermalink: /resting_work/\"\"\" + html_filename\n",
    "    \n",
    "    if len(str(item.status2)) > 5:\n",
    "        md += \"\\nstatus2: '\" + html_escape(item.status2) + \"'\"\n",
    "    \n",
    "#     md = \"---\\ntitle: \\\"\"   + item.title + '\"\\n'\n",
    "\n",
    "    md += \"\\ntitle: \\\"\"   + item.title + '\"'\n",
    "\n",
    "    if len(str(item.venue)) > 5:\n",
    "        md += \"\\nvenue: '\" + html_escape(item.venue) + \"'\"\n",
    "    \n",
    "    if len(str(item.excerpt)) > 5:\n",
    "        md += \"\\nexcerpt: '\" + html_escape(item.excerpt) + \"'\"\n",
    "        md += \"\\ncustom_excerpt: \" + \"'true'\"\n",
    "    \n",
    "    if len(str(item.abstract)) > 5:\n",
    "        md += \"\\nabstract: '\" + html_escape(item.abstract) + \"'\"\n",
    "        \n",
    "    if len(str(item.coauthors)) > 5:\n",
    "        md += \"\\ncoauthors: '\" + html_escape(item.coauthors) + \"'\"\n",
    "    \n",
    "    if len(str(item.citation)) > 5:\n",
    "        md += \"\\ncitation: '\" + html_escape(item.citation) + \"'\"\n",
    "    \n",
    "    if len(str(item.cv_citation_authors)) > 5:\n",
    "        md += \"\\ncv_citation_authors: '\" + html_escape(item.cv_citation_authors) + \"'\"\n",
    "        \n",
    "    if len(str(item.cv_citation_other)) > 5:\n",
    "        md += \"\\ncv_citation_other: '\" + html_escape(item.cv_citation_other) + \"'\"\n",
    "    \n",
    "    if len(str(item.url_slug)) > 5:\n",
    "        md += \"\\nurl_slug: '\" + html_escape(item.url_slug) + \"'\"\n",
    "    \n",
    "    if len(str(item.pub_paper_url)) > 5:\n",
    "        md += \"\\npubpaperurl: '\" + item.pub_paper_url + \"'\"\n",
    "    \n",
    "    if len(str(item.wp_paper_url)) > 5:\n",
    "        md += \"\\nwppaperurl: '\" + item.wp_paper_url + \"'\"\n",
    "    \n",
    "    if len(str(item.slides_url)) > 5:\n",
    "        md += \"\\nslidesurl: '\" + item.slides_url + \"'\"\n",
    "     \n",
    "    for i in range(3):\n",
    "        opt_url = item[f'opt{i}_url']\n",
    "        opt_text = item[f'opt{i}_text']\n",
    "        \n",
    "        if len(str(opt_url)) > 5:\n",
    "            md += \"\\n\" f'opt{i}text' \": '\" + opt_text + \"'\"\n",
    "            md += \"\\n\" f'opt{i}url' \": '\" + opt_url + \"'\"\n",
    "    \n",
    "    md += \"\\n---\\n\"\n",
    "    \n",
    "    ## Markdown description for individual page\n",
    "        \n",
    "    if len(str(item.abstract)) > 5:\n",
    "        md += \"Abstract: \" + html_escape(item.abstract) + \"\\n\\n\"\n",
    "    \n",
    "    if len(str(item.pub_paper_url)) > 5:\n",
    "        md += \"[[Publication](\" + item.pub_paper_url + \")] \" \n",
    "    \n",
    "    if len(str(item.wp_paper_url)) > 5:\n",
    "        md += \"[[Draft](\" + item.wp_paper_url + \")] \" \n",
    "\n",
    "    if len(str(item.slides_url)) > 5:\n",
    "        md += \"[[Slides](\" + item.slides_url + \")] \" \n",
    "    \n",
    "    for i in range(3):\n",
    "        opt_url = item[f'opt{i}_url']\n",
    "        opt_text = item[f'opt{i}_text']\n",
    "        \n",
    "        if len(str(opt_url)) > 5:\n",
    "            md += \"\\n[[\" + opt_text + \"](\" + opt_url + \")] \"     \n",
    "    \n",
    "    \n",
    "    if len(str(item.citation)) > 5:\n",
    "        if len(str(item.pub_paper_url)) > 5:\n",
    "            md += \"\\n\\nRecommended citation: \" + item.citation + \" \" + item.pub_paper_url\n",
    "        elif len(str(item.wp_paper_url)) > 5:\n",
    "            md += \"\\n\\nRecommended citation: \" + item.citation + \" \" + item.wp_paper_url\n",
    "        else:\n",
    "            md += \"\\n\\nRecommended citation: \" + item.citation\n",
    "    \n",
    "    md_filename = os.path.basename(md_filename)\n",
    "    \n",
    "    \n",
    "    ## Save markdown file into corresponding GitHub folder\n",
    "    if item.status == \"published_paper\":\n",
    "        with open(\"../_published_papers/\" + md_filename, 'w') as f:\n",
    "            f.write(md)\n",
    "            \n",
    "    elif item.status == \"working_paper\":\n",
    "        with open(\"../_working_papers/\" + md_filename, 'w') as f:\n",
    "            f.write(md)\n",
    "            \n",
    "    elif item.status == \"policy_paper\":\n",
    "        with open(\"../_policy_papers/\" + md_filename, 'w') as f:\n",
    "            f.write(md)\n",
    "            \n",
    "    elif item.status == \"work_in_progress\":\n",
    "        with open(\"../_works_in_progress/\" + md_filename, 'w') as f:\n",
    "            f.write(md)\n",
    "            \n",
    "    elif item.status == \"resting_work\":\n",
    "        with open(\"../_resting_works/\" + md_filename, 'w') as f:\n",
    "            f.write(md)"
   ]
  },
  {
   "cell_type": "markdown",
   "metadata": {},
   "source": [
    "These files are in the publications directory, one directory below where we're working from."
   ]
  },
  {
   "cell_type": "code",
   "execution_count": null,
   "metadata": {},
   "outputs": [],
   "source": [
    "!ls ../_working_papers/"
   ]
  },
  {
   "cell_type": "code",
   "execution_count": null,
   "metadata": {
    "scrolled": true
   },
   "outputs": [],
   "source": [
    "!cat ../_working_papers/2023-12-03-DJQ_ASAD_revisited.md"
   ]
  },
  {
   "cell_type": "code",
   "execution_count": null,
   "metadata": {},
   "outputs": [],
   "source": []
  }
 ],
 "metadata": {
  "kernelspec": {
   "display_name": "Python 3 (ipykernel)",
   "language": "python",
   "name": "python3"
  },
  "language_info": {
   "codemirror_mode": {
    "name": "ipython",
    "version": 3
   },
   "file_extension": ".py",
   "mimetype": "text/x-python",
   "name": "python",
   "nbconvert_exporter": "python",
   "pygments_lexer": "ipython3",
   "version": "3.9.12"
  }
 },
 "nbformat": 4,
 "nbformat_minor": 1
}
